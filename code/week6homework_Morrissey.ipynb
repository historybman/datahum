{
 "cells": [
  {
   "cell_type": "markdown",
   "metadata": {},
   "source": [
    "# Week 6: Using scikit-learn for Naive Bayes and Logistic Regression\n",
    "\n",
    "Things we have built painfully from scratch can be done easily and quickly using the ```scikit-learn``` module.\n",
    "\n",
    "It can do the word-counting for us, transforming a column of tweets into a term-document matrix.\n",
    "\n",
    "Then it can run classification, using a variety of algorithms.\n",
    "\n",
    "```Scikit-learn``` can even do cross-validation automatically! Our lives are about to get a lot easier. \n",
    "\n",
    "(Of course, that means our goals can also become more ambitious.)\n",
    "\n",
    "Let's start by reading in our handy dataset of Trump tweets. Then I'll simplify the dataframe to reduce the number of columns. I'll also create a \"dummy\" numeric column to represent the \"class\" each tweet belongs to, using the technique illustrated by Kevin Markham's linear regression notebook.\n"
   ]
  },
  {
   "cell_type": "code",
   "execution_count": 1,
   "metadata": {
    "collapsed": false
   },
   "outputs": [
    {
     "name": "stdout",
     "output_type": "stream",
     "text": [
      "Current working directory: /Users/rmorriss/Documents/datahum/code\n",
      "\n"
     ]
    },
    {
     "data": {
      "text/html": [
       "<div>\n",
       "<table border=\"1\" class=\"dataframe\">\n",
       "  <thead>\n",
       "    <tr style=\"text-align: right;\">\n",
       "      <th></th>\n",
       "      <th>text</th>\n",
       "      <th>source</th>\n",
       "      <th>isandroid</th>\n",
       "    </tr>\n",
       "  </thead>\n",
       "  <tbody>\n",
       "    <tr>\n",
       "      <th>0</th>\n",
       "      <td>My economic policy speech will be carried live...</td>\n",
       "      <td>android</td>\n",
       "      <td>1</td>\n",
       "    </tr>\n",
       "    <tr>\n",
       "      <th>1</th>\n",
       "      <td>Join me in Fayetteville, North Carolina tomorr...</td>\n",
       "      <td>iphone</td>\n",
       "      <td>0</td>\n",
       "    </tr>\n",
       "    <tr>\n",
       "      <th>2</th>\n",
       "      <td>#ICYMI: \"Will Media Apologize to Trump?\" https...</td>\n",
       "      <td>iphone</td>\n",
       "      <td>0</td>\n",
       "    </tr>\n",
       "    <tr>\n",
       "      <th>3</th>\n",
       "      <td>Michael Morell, the lightweight former Acting ...</td>\n",
       "      <td>android</td>\n",
       "      <td>1</td>\n",
       "    </tr>\n",
       "    <tr>\n",
       "      <th>4</th>\n",
       "      <td>The media is going crazy. They totally distort...</td>\n",
       "      <td>android</td>\n",
       "      <td>1</td>\n",
       "    </tr>\n",
       "  </tbody>\n",
       "</table>\n",
       "</div>"
      ],
      "text/plain": [
       "                                                text   source  isandroid\n",
       "0  My economic policy speech will be carried live...  android          1\n",
       "1  Join me in Fayetteville, North Carolina tomorr...   iphone          0\n",
       "2  #ICYMI: \"Will Media Apologize to Trump?\" https...   iphone          0\n",
       "3  Michael Morell, the lightweight former Acting ...  android          1\n",
       "4  The media is going crazy. They totally distort...  android          1"
      ]
     },
     "execution_count": 1,
     "metadata": {},
     "output_type": "execute_result"
    }
   ],
   "source": [
    "import os, math\n",
    "import pandas as pd\n",
    "\n",
    "cwd = os.getcwd()\n",
    "print('Current working directory: ' + cwd + '\\n')\n",
    "      \n",
    "relativepath = os.path.join('..', 'data', 'weekfour', 'trump.csv')\n",
    "trump = pd.read_csv(relativepath)\n",
    "\n",
    "def trump_test(a_data_frame, rowidx):\n",
    "    ''' Just a function that translates complex statusSource strings\n",
    "    into a simpler class label.\n",
    "    '''\n",
    "    \n",
    "    if 'iphone' in a_data_frame['statusSource'][rowidx]:\n",
    "        return 'iphone'\n",
    "    elif 'android' in a_data_frame['statusSource'][rowidx]:\n",
    "        return 'android'\n",
    "    else:\n",
    "        return 'other'\n",
    "\n",
    "# Let's create a simple data frame with just two columns,\n",
    "# the tweet text and the source.\n",
    "\n",
    "tweet_text = trump['text']\n",
    "source = []\n",
    "for idx in trump.index:\n",
    "    source.append(trump_test(trump, idx))\n",
    "\n",
    "    \n",
    "\n",
    "# We created source as a list. To add it to a data frame, we need\n",
    "# to make it a Series, which is the Pandas way of thinking about\n",
    "# an indexed list.\n",
    "source = pd.Series(source, index = trump.index)\n",
    "\n",
    "# Now let's create the Trump data frame.\n",
    "tdf = pd.concat([tweet_text, source], axis = 1)\n",
    "tdf.columns = ['text', 'source']\n",
    "\n",
    "# Let's filter it to get rid of any rows that aren't iphone\n",
    "# or android\n",
    "tdf = tdf[(tdf['source'] == 'android') | (tdf['source'] == 'iphone')]\n",
    "\n",
    "# Now to create a dummy numeric column. We'll need this later.\n",
    "tdf['isandroid'] = tdf.source.map({'android':1, 'iphone':0})\n",
    "\n",
    "tdf.head()"
   ]
  },
  {
   "cell_type": "markdown",
   "metadata": {},
   "source": [
    "### Using scikit-learn for word counting.\n",
    "\n",
    "Classifiers are going to demand two arguments: \n",
    "\n",
    "A) a matrix where rows are observations and columns are variables.\n",
    "B) a column of class labels for the observations.\n",
    "\n",
    "For text classification, (A) is a document-term matrix. Fortunately ```scikit-learn``` has a ```CountVectorizer()``` function that can produce this automatically.\n",
    "\n",
    "For full documentation, see:\n",
    "http://scikit-learn.org/stable/modules/generated/sklearn.feature_extraction.text.CountVectorizer.html"
   ]
  },
  {
   "cell_type": "code",
   "execution_count": 2,
   "metadata": {
    "collapsed": false
   },
   "outputs": [
    {
     "data": {
      "text/html": [
       "<div>\n",
       "<table border=\"1\" class=\"dataframe\">\n",
       "  <thead>\n",
       "    <tr style=\"text-align: right;\">\n",
       "      <th></th>\n",
       "      <th>about</th>\n",
       "      <th>again</th>\n",
       "      <th>all</th>\n",
       "      <th>am</th>\n",
       "      <th>america</th>\n",
       "      <th>amp</th>\n",
       "      <th>and</th>\n",
       "      <th>are</th>\n",
       "      <th>as</th>\n",
       "      <th>at</th>\n",
       "      <th>...</th>\n",
       "      <th>what</th>\n",
       "      <th>when</th>\n",
       "      <th>who</th>\n",
       "      <th>why</th>\n",
       "      <th>will</th>\n",
       "      <th>win</th>\n",
       "      <th>with</th>\n",
       "      <th>would</th>\n",
       "      <th>you</th>\n",
       "      <th>your</th>\n",
       "    </tr>\n",
       "  </thead>\n",
       "  <tbody>\n",
       "    <tr>\n",
       "      <th>0</th>\n",
       "      <td>0</td>\n",
       "      <td>0</td>\n",
       "      <td>0</td>\n",
       "      <td>0</td>\n",
       "      <td>0</td>\n",
       "      <td>0</td>\n",
       "      <td>0</td>\n",
       "      <td>0</td>\n",
       "      <td>0</td>\n",
       "      <td>1</td>\n",
       "      <td>...</td>\n",
       "      <td>0</td>\n",
       "      <td>0</td>\n",
       "      <td>0</td>\n",
       "      <td>0</td>\n",
       "      <td>1</td>\n",
       "      <td>0</td>\n",
       "      <td>0</td>\n",
       "      <td>0</td>\n",
       "      <td>0</td>\n",
       "      <td>0</td>\n",
       "    </tr>\n",
       "    <tr>\n",
       "      <th>1</th>\n",
       "      <td>0</td>\n",
       "      <td>0</td>\n",
       "      <td>0</td>\n",
       "      <td>0</td>\n",
       "      <td>0</td>\n",
       "      <td>0</td>\n",
       "      <td>0</td>\n",
       "      <td>0</td>\n",
       "      <td>0</td>\n",
       "      <td>2</td>\n",
       "      <td>...</td>\n",
       "      <td>0</td>\n",
       "      <td>0</td>\n",
       "      <td>0</td>\n",
       "      <td>0</td>\n",
       "      <td>0</td>\n",
       "      <td>0</td>\n",
       "      <td>0</td>\n",
       "      <td>0</td>\n",
       "      <td>0</td>\n",
       "      <td>0</td>\n",
       "    </tr>\n",
       "    <tr>\n",
       "      <th>2</th>\n",
       "      <td>0</td>\n",
       "      <td>0</td>\n",
       "      <td>0</td>\n",
       "      <td>0</td>\n",
       "      <td>0</td>\n",
       "      <td>0</td>\n",
       "      <td>0</td>\n",
       "      <td>0</td>\n",
       "      <td>0</td>\n",
       "      <td>0</td>\n",
       "      <td>...</td>\n",
       "      <td>0</td>\n",
       "      <td>0</td>\n",
       "      <td>0</td>\n",
       "      <td>0</td>\n",
       "      <td>1</td>\n",
       "      <td>0</td>\n",
       "      <td>0</td>\n",
       "      <td>0</td>\n",
       "      <td>0</td>\n",
       "      <td>0</td>\n",
       "    </tr>\n",
       "    <tr>\n",
       "      <th>3</th>\n",
       "      <td>0</td>\n",
       "      <td>0</td>\n",
       "      <td>0</td>\n",
       "      <td>0</td>\n",
       "      <td>0</td>\n",
       "      <td>0</td>\n",
       "      <td>1</td>\n",
       "      <td>0</td>\n",
       "      <td>0</td>\n",
       "      <td>0</td>\n",
       "      <td>...</td>\n",
       "      <td>0</td>\n",
       "      <td>0</td>\n",
       "      <td>1</td>\n",
       "      <td>0</td>\n",
       "      <td>0</td>\n",
       "      <td>0</td>\n",
       "      <td>0</td>\n",
       "      <td>0</td>\n",
       "      <td>0</td>\n",
       "      <td>0</td>\n",
       "    </tr>\n",
       "    <tr>\n",
       "      <th>4</th>\n",
       "      <td>0</td>\n",
       "      <td>0</td>\n",
       "      <td>0</td>\n",
       "      <td>0</td>\n",
       "      <td>0</td>\n",
       "      <td>0</td>\n",
       "      <td>1</td>\n",
       "      <td>0</td>\n",
       "      <td>0</td>\n",
       "      <td>0</td>\n",
       "      <td>...</td>\n",
       "      <td>0</td>\n",
       "      <td>0</td>\n",
       "      <td>0</td>\n",
       "      <td>0</td>\n",
       "      <td>0</td>\n",
       "      <td>0</td>\n",
       "      <td>0</td>\n",
       "      <td>0</td>\n",
       "      <td>0</td>\n",
       "      <td>0</td>\n",
       "    </tr>\n",
       "  </tbody>\n",
       "</table>\n",
       "<p>5 rows × 100 columns</p>\n",
       "</div>"
      ],
      "text/plain": [
       "   about  again  all  am  america  amp  and  are  as  at  ...   what  when  \\\n",
       "0      0      0    0   0        0    0    0    0   0   1  ...      0     0   \n",
       "1      0      0    0   0        0    0    0    0   0   2  ...      0     0   \n",
       "2      0      0    0   0        0    0    0    0   0   0  ...      0     0   \n",
       "3      0      0    0   0        0    0    1    0   0   0  ...      0     0   \n",
       "4      0      0    0   0        0    0    1    0   0   0  ...      0     0   \n",
       "\n",
       "   who  why  will  win  with  would  you  your  \n",
       "0    0    0     1    0     0      0    0     0  \n",
       "1    0    0     0    0     0      0    0     0  \n",
       "2    0    0     1    0     0      0    0     0  \n",
       "3    1    0     0    0     0      0    0     0  \n",
       "4    0    0     0    0     0      0    0     0  \n",
       "\n",
       "[5 rows x 100 columns]"
      ]
     },
     "execution_count": 2,
     "metadata": {},
     "output_type": "execute_result"
    }
   ],
   "source": [
    "from sklearn.feature_extraction.text import CountVectorizer\n",
    "countvec = CountVectorizer(max_features = 100)\n",
    "\n",
    "# The max_features argument tells the vectorizer to return\n",
    "# a matrix with columns for only the p most common words.\n",
    "\n",
    "# Because this matrix could get quite large on a collection\n",
    "# of long documents, the vectorizer returns it in a special\n",
    "# 'sparse' format. But we're going to convert that to an ordinary\n",
    "# DataFrame for ease of inspection and manipulation.\n",
    "\n",
    "sparse_matrix = countvec.fit_transform(tdf['text'])\n",
    "termdoc = pd.DataFrame(sparse_matrix.toarray(), columns=countvec.get_feature_names())\n",
    "termdoc.head()\n",
    "\n"
   ]
  },
  {
   "cell_type": "code",
   "execution_count": 3,
   "metadata": {
    "collapsed": false
   },
   "outputs": [
    {
     "name": "stdout",
     "output_type": "stream",
     "text": [
      "0.799902661722\n"
     ]
    },
    {
     "data": {
      "text/plain": [
       "array([ 0.86428571,  0.8       ,  0.79856115,  0.77697842,  0.76978417,\n",
       "        0.8057554 ,  0.81294964,  0.84172662,  0.81884058,  0.71014493])"
      ]
     },
     "execution_count": 3,
     "metadata": {},
     "output_type": "execute_result"
    }
   ],
   "source": [
    "from sklearn.naive_bayes import MultinomialNB\n",
    "from sklearn.cross_validation import cross_val_score\n",
    "mnb = MultinomialNB()\n",
    "scores = cross_val_score(mnb, termdoc.as_matrix(), tdf['isandroid'], cv=10)\n",
    "print(sum(scores) / len(scores))\n",
    "scores"
   ]
  },
  {
   "cell_type": "markdown",
   "metadata": {},
   "source": [
    "## Question to ask about this\n",
    "This is all well and good; I once again think I understand how the code works, and what each bit of the code is doing (although to be fair the last cell above is all from scikit-learn and the functions and methods for that are completely foreign to me. It's pretty clear what a function like MultinomialNB() does, but it's not so clear what is happening under the hood. Obviously Ted's code from last week let me see what the Naive Bayes is actually calculating, so that's good at least.\n",
    "\n",
    "But the big problem here is that I'm not clear on what the output of the cross_val is. I think these are measurements of how successful the Bayes method was at classifying the tweets into trump and not-trump. That said, I think the most important piece of the Bayes is the actual model, which I take to be stored in the variable mnb. In the from-scratch Bayes functions that Ted coded last week, we were able to see the model, which was a dataframe with the various coefficients, especially the log_pos and log_neg which were what we used to test the model against the test set. Here in the scikit-learn environment, we no longer have this model and I'm confused about what is happening now. I'm not even sure I understand what that array is. \n",
    "\n",
    "A couple other questions:\n",
    "- Ted went to great lengths to turn the matrix from CountVectorizer() into a regular dataframe. However it looks above like he turns it back into a matrix ['termdoc.as_matric()] in order to pass it into the cross_val_score. Why not just leave it as a matrix?\n",
    "- What is mnb?"
   ]
  },
  {
   "cell_type": "markdown",
   "metadata": {},
   "source": [
    "### Regularized logistic regression\n",
    "\n",
    "I won't fully explain logistic regression here. I hope I have time to sketch a little on the whiteboard. But very briefly, it's a way of *mapping* linear regression onto a finite space between 0 and 1. This allows a regression algorithm to do the work of classification. It is sometimes more accurate than naive Bayes. (More importantly, it produces well-*calibrated* probabilistic predictions. When logistic regression tells you an instance has a 60% chance of being in class X, that number is actually meaningful. Naive Bayes, on the other hand, has a tendency to exaggerate, seeing instances as all the way toward one class or the other.) \n",
    "\n",
    "*Regularizing* the regression basically means adding a degree of deliberate fuzz to prevent overfitting. This is done by penalizing large weights in the model (so your decision boundary can't become all volatile and wiggly.)\n",
    "\n",
    "The upshot of all this is that regularized logistic regression gives you a parameter to tune: the regularization constant, ```C```, controlling the degree of fuzziness. In the scikit-learn implementation, small values of ```C``` mean strong (fuzzy) regularization.\n",
    "\n",
    "http://scikit-learn.org/stable/modules/generated/sklearn.linear_model.LogisticRegression.html"
   ]
  },
  {
   "cell_type": "code",
   "execution_count": 4,
   "metadata": {
    "collapsed": false
   },
   "outputs": [
    {
     "name": "stdout",
     "output_type": "stream",
     "text": [
      "0.827251664507\n"
     ]
    },
    {
     "data": {
      "text/plain": [
       "array([ 0.88571429,  0.82142857,  0.79856115,  0.82014388,  0.77697842,\n",
       "        0.84892086,  0.86330935,  0.8705036 ,  0.81884058,  0.76811594])"
      ]
     },
     "execution_count": 4,
     "metadata": {},
     "output_type": "execute_result"
    }
   ],
   "source": [
    "from sklearn.linear_model import LogisticRegression\n",
    "lr = LogisticRegression(C = .1)\n",
    "scores = cross_val_score(lr, termdoc.as_matrix(), tdf['isandroid'], cv=10)\n",
    "print(sum(scores) / len(scores))\n",
    "scores"
   ]
  },
  {
   "cell_type": "markdown",
   "metadata": {},
   "source": [
    "## Homework exercise 1: grid search\n",
    "\n",
    "Write a function that runs logistic regression repeatedly, in order to find the optimal value of C (regularization constant) for a given term-doc matrix and column of class labels. Use ten-fold cross-validation, as above.\n",
    "\n",
    "For this problem, it makes sense to search the space between 30 and .0003. Try using this list of possible settings:\n",
    "[30, 10, 3, 1, 0.3, 0.1, 0.03, 0.01, 0.003, 0.001, .0003]\n",
    "\n",
    "Your function should return two values: the optimal parameter for C, and the accuracy achieved at the optimal parameter.\n",
    "\n",
    "This is called \"grid search\" because you could, theoretically, optimize multiple parameters at once, with nested loops. Here, however, we're just optimizing one -- so it's more like \"line search.\""
   ]
  },
  {
   "cell_type": "markdown",
   "metadata": {},
   "source": [
    "## Pseudocode\n",
    "- set oldresult = .5 [a low accuracy]\n",
    "- list = [possible settings]\n",
    "- write for loop for setting in possible settings:\n",
    "- set c to setting\n",
    "- set variable lr to the result of running the LogisticRegression function with argument(c = setting)\n",
    "- run the cross validation\n",
    "- result = sum of scores divided by length of scores (or the average score)\n",
    "- now test to see if result is > oldresult. If so, set the oldresult to result, else continue. return oldresult.\n"
   ]
  },
  {
   "cell_type": "code",
   "execution_count": 5,
   "metadata": {
    "collapsed": false
   },
   "outputs": [
    {
     "name": "stdout",
     "output_type": "stream",
     "text": [
      "Average score for 30 is: 0.8107197223587589\n",
      "[ 0.83571429  0.79285714  0.79136691  0.79856115  0.76978417  0.84172662\n",
      "  0.88489209  0.86330935  0.81884058  0.71014493]\n",
      "Average score for 10 is: 0.8128832834353634\n",
      "[ 0.83571429  0.8         0.78417266  0.81294964  0.76258993  0.84172662\n",
      "  0.88489209  0.86330935  0.82608696  0.7173913 ]\n",
      "Average score for 3 is: 0.8136183475579785\n",
      "[ 0.83571429  0.8         0.77697842  0.81294964  0.75539568  0.84172662\n",
      "  0.88489209  0.86330935  0.83333333  0.73188406]\n",
      "Average score for 1 is: 0.8193636146983035\n",
      "[ 0.85714286  0.80714286  0.77697842  0.81294964  0.77697842  0.84172662\n",
      "  0.88489209  0.85611511  0.84782609  0.73188406]\n",
      "Average score for 0.3 is: 0.8272827948821068\n",
      "[ 0.88571429  0.80714286  0.79856115  0.82733813  0.78417266  0.84892086\n",
      "  0.85611511  0.84892086  0.84057971  0.77536232]\n",
      "Average score for 0.1 is: 0.8272516645069038\n",
      "[ 0.88571429  0.82142857  0.79856115  0.82014388  0.77697842  0.84892086\n",
      "  0.86330935  0.8705036   0.81884058  0.76811594]\n",
      "Average score for 0.03 is: 0.8222156932838821\n",
      "[ 0.88571429  0.82142857  0.8057554   0.82014388  0.76258993  0.84172662\n",
      "  0.84172662  0.85611511  0.83333333  0.75362319]\n",
      "Average score for 0.01 is: 0.8193379954421556\n",
      "[ 0.87857143  0.82857143  0.79136691  0.8057554   0.76258993  0.84172662\n",
      "  0.84172662  0.85611511  0.83333333  0.75362319]\n",
      "Average score for 0.003 is: 0.8178939333005646\n",
      "[ 0.87857143  0.82857143  0.78417266  0.81294964  0.76978417  0.83453237\n",
      "  0.83453237  0.85611511  0.82608696  0.75362319]\n",
      "Average score for 0.001 is: 0.8164757138388667\n",
      "[ 0.86428571  0.82142857  0.78417266  0.81294964  0.76978417  0.83453237\n",
      "  0.83453237  0.85611511  0.83333333  0.75362319]\n",
      "Average score for 0.0003 is: 0.8114293161743896\n",
      "[ 0.86428571  0.82142857  0.78417266  0.79136691  0.76258993  0.83453237\n",
      "  0.82733813  0.85611511  0.82608696  0.74637681]\n",
      "The optimal C value for the linear regression is 0.3 which gives an average score of 0.8272827948821068\n"
     ]
    }
   ],
   "source": [
    "# first just make sure you can make this loop work, not worrying about defining a function. \n",
    "oldresult = .5\n",
    "list = [30, 10, 3, 1, .3, .1, .03, .01, .003, .001, .0003]\n",
    "result_list = []\n",
    "for setting in list:\n",
    "    c = setting\n",
    "    lr = LogisticRegression(C = c)\n",
    "    scores = cross_val_score(lr, termdoc.as_matrix(), tdf['isandroid'], cv=10)\n",
    "    average_score = (sum(scores)/ len(scores))\n",
    "    result_list.append([average_score, c])\n",
    "    print('Average score for {} is: {}'.format(c, average_score))\n",
    "    print(scores)\n",
    "\n",
    "sorted_list = sorted(result_list, key=lambda tup:(-tup[0], tup[1]))\n",
    "print('The optimal C value for the linear regression is {} which gives an average score of {}'.format(sorted_list[0][1], sorted_list[0][0]))\n",
    "\n"
   ]
  },
  {
   "cell_type": "code",
   "execution_count": 6,
   "metadata": {
    "collapsed": false
   },
   "outputs": [
    {
     "data": {
      "text/plain": [
       "(30, 0.81071972235875889)"
      ]
     },
     "execution_count": 6,
     "metadata": {},
     "output_type": "execute_result"
    }
   ],
   "source": [
    "# Now write a function\n",
    "def optimal_c_log_regression(tdmatrix, column):\n",
    "    oldresult = .5\n",
    "    list = [30, 10, 3, 1, .3, .1, .03, .01, .003, .001, .0003]\n",
    "    result_list = []\n",
    "    for setting in list:\n",
    "        c = setting\n",
    "        lr = LogisticRegression(C = c)\n",
    "        scores = cross_val_score(lr, tdmatrix.as_matrix(), column, cv=10)\n",
    "        average_score = (sum(scores)/ len(scores))\n",
    "        result_list.append([average_score, c])\n",
    "    sorted_list = sorted(result_list, key=lambda tup:(-tup[0], tup[1]))\n",
    "    return result_list[0][1], result_list[0][0]\n",
    "        \n",
    "optimal_c_log_regression(termdoc, tdf['isandroid'])"
   ]
  },
  {
   "cell_type": "markdown",
   "metadata": {},
   "source": [
    "## Homework exercise 2: battle of the algorithms\n",
    "\n",
    "Which works better: logistic regression or naive Bayes?\n",
    "Does it matter how many features we use?\n",
    "\n",
    "Write a loop that generates term-doc matrices for the Trump dataset with different numbers of features, from 200 to 4000, increasing by 200 each time\n",
    "\n",
    "```for i in range(200, 4200, 200):```\n",
    "\n",
    "For each term-doc matrix, calculate the accuracy of naive Bayes, and also the accuracy of logistic regression (using your optimizer function from exercise 1 to get the best accuracy). Save both accuracies in a pair of growing lists.\n",
    "\n",
    "When the loop is complete, plot the accuracy of both classifiers. The x axis should be ```number of features,``` the y axis should be ```accuracy```, and you should have two lines: one for naive Bayes, and one for logistic regression."
   ]
  },
  {
   "cell_type": "markdown",
   "metadata": {
    "collapsed": true
   },
   "source": [
    "## My solution\n",
    "I think what I want to do with this is write a function for the naive bayes, so that I can run the loop, create my term-doc matrix, and then save two lists with the number of features and accuracy corresponding to each of my methods."
   ]
  },
  {
   "cell_type": "code",
   "execution_count": 7,
   "metadata": {
    "collapsed": false
   },
   "outputs": [
    {
     "data": {
      "text/plain": [
       "0.79990266172155455"
      ]
     },
     "execution_count": 7,
     "metadata": {},
     "output_type": "execute_result"
    }
   ],
   "source": [
    "# First write a function for the NB\n",
    "def NB(tdmatrix, column):\n",
    "    from sklearn.naive_bayes import MultinomialNB\n",
    "    from sklearn.cross_validation import cross_val_score\n",
    "    mnb = MultinomialNB()\n",
    "    scores = cross_val_score(mnb, tdmatrix.as_matrix(), column, cv=10)\n",
    "    return sum(scores) / len(scores)\n",
    "\n",
    "NB(termdoc, tdf['isandroid'])"
   ]
  },
  {
   "cell_type": "code",
   "execution_count": 8,
   "metadata": {
    "collapsed": false
   },
   "outputs": [
    {
     "name": "stdout",
     "output_type": "stream",
     "text": [
      "[200, 400, 600, 800, 1000, 1200, 1400, 1600, 1800, 2000, 2200, 2400, 2600, 2800, 3000, 3200, 3400, 3600, 3800, 4000]\n",
      "[0.79846358937694561, 0.80856688562193724, 0.80568926225479243, 0.81001623545883794, 0.80930187526997044, 0.81289385882598264, 0.81865454220474554, 0.81650140756959644, 0.8186544677301637, 0.81505734542800534, 0.81577163114229112, 0.81433792096757374, 0.81577163114229112, 0.81649105560272273, 0.81721569328388222, 0.81722083203002815, 0.81794025649045976, 0.81866481969703742, 0.81937910541132308, 0.81937910541132308]\n",
      "[0.78983533669958439, 0.7734176385599596, 0.80144458346366387, 0.79776464542651593, 0.80643937024293622, 0.8150675484457155, 0.81506255864873312, 0.816490981128141, 0.81720519236784472, 0.81722075755544632, 0.81290920058983862, 0.81507276166644327, 0.81649090665355906, 0.81794524628744214, 0.81576105575167213, 0.81865945752714597, 0.82297607876431778, 0.82370071644547715, 0.82298650520577321, 0.82729791322221724]\n"
     ]
    }
   ],
   "source": [
    "# Now put the two functions together\n",
    "Bayes_Accuracies = []\n",
    "LR_Accuracies = []\n",
    "feature_nums = []\n",
    "from sklearn.feature_extraction.text import CountVectorizer\n",
    "for i in range(200, 4200, 200):\n",
    "    countvec = CountVectorizer(max_features = i)\n",
    "    sparse_matrix = countvec.fit_transform(tdf['text'])\n",
    "    termdoc = pd.DataFrame(sparse_matrix.toarray(), columns=countvec.get_feature_names())\n",
    "    \n",
    "    # now run the functions\n",
    "    bayes = NB(termdoc, tdf['isandroid'])\n",
    "    Bayes_Accuracies.append(bayes)\n",
    "    \n",
    "    lr2 = optimal_c_log_regression(termdoc, tdf['isandroid'])\n",
    "    LR_Accuracies.append(lr2[1])\n",
    "    # note that above this has to retrieve the accuracy from the tuple, so that's what the index is for.\n",
    "    \n",
    "    feature_nums.append(i)\n",
    "    \n",
    "print(feature_nums)\n",
    "print(Bayes_Accuracies)\n",
    "print(LR_Accuracies)\n"
   ]
  },
  {
   "cell_type": "markdown",
   "metadata": {},
   "source": [
    "## What this is\n",
    "So what you see above are three lists: the feature nums, and then the results of the tests for each of the Bayes and the Log Regression w/ the optimizer. The tests took a really long time. But I think the numbers look plausible. Now the only thing left to do is set the lists up as a dataframe and then use matplotlib to plot it. "
   ]
  },
  {
   "cell_type": "code",
   "execution_count": 9,
   "metadata": {
    "collapsed": false
   },
   "outputs": [
    {
     "data": {
      "text/html": [
       "<div>\n",
       "<table border=\"1\" class=\"dataframe\">\n",
       "  <thead>\n",
       "    <tr style=\"text-align: right;\">\n",
       "      <th></th>\n",
       "      <th>feature_nums</th>\n",
       "      <th>Bayes_Scores</th>\n",
       "      <th>Log_Regression_Scores</th>\n",
       "    </tr>\n",
       "  </thead>\n",
       "  <tbody>\n",
       "    <tr>\n",
       "      <th>0</th>\n",
       "      <td>200</td>\n",
       "      <td>0.798464</td>\n",
       "      <td>0.789835</td>\n",
       "    </tr>\n",
       "    <tr>\n",
       "      <th>1</th>\n",
       "      <td>400</td>\n",
       "      <td>0.808567</td>\n",
       "      <td>0.773418</td>\n",
       "    </tr>\n",
       "    <tr>\n",
       "      <th>2</th>\n",
       "      <td>600</td>\n",
       "      <td>0.805689</td>\n",
       "      <td>0.801445</td>\n",
       "    </tr>\n",
       "    <tr>\n",
       "      <th>3</th>\n",
       "      <td>800</td>\n",
       "      <td>0.810016</td>\n",
       "      <td>0.797765</td>\n",
       "    </tr>\n",
       "    <tr>\n",
       "      <th>4</th>\n",
       "      <td>1000</td>\n",
       "      <td>0.809302</td>\n",
       "      <td>0.806439</td>\n",
       "    </tr>\n",
       "    <tr>\n",
       "      <th>5</th>\n",
       "      <td>1200</td>\n",
       "      <td>0.812894</td>\n",
       "      <td>0.815068</td>\n",
       "    </tr>\n",
       "    <tr>\n",
       "      <th>6</th>\n",
       "      <td>1400</td>\n",
       "      <td>0.818655</td>\n",
       "      <td>0.815063</td>\n",
       "    </tr>\n",
       "    <tr>\n",
       "      <th>7</th>\n",
       "      <td>1600</td>\n",
       "      <td>0.816501</td>\n",
       "      <td>0.816491</td>\n",
       "    </tr>\n",
       "    <tr>\n",
       "      <th>8</th>\n",
       "      <td>1800</td>\n",
       "      <td>0.818654</td>\n",
       "      <td>0.817205</td>\n",
       "    </tr>\n",
       "    <tr>\n",
       "      <th>9</th>\n",
       "      <td>2000</td>\n",
       "      <td>0.815057</td>\n",
       "      <td>0.817221</td>\n",
       "    </tr>\n",
       "    <tr>\n",
       "      <th>10</th>\n",
       "      <td>2200</td>\n",
       "      <td>0.815772</td>\n",
       "      <td>0.812909</td>\n",
       "    </tr>\n",
       "    <tr>\n",
       "      <th>11</th>\n",
       "      <td>2400</td>\n",
       "      <td>0.814338</td>\n",
       "      <td>0.815073</td>\n",
       "    </tr>\n",
       "    <tr>\n",
       "      <th>12</th>\n",
       "      <td>2600</td>\n",
       "      <td>0.815772</td>\n",
       "      <td>0.816491</td>\n",
       "    </tr>\n",
       "    <tr>\n",
       "      <th>13</th>\n",
       "      <td>2800</td>\n",
       "      <td>0.816491</td>\n",
       "      <td>0.817945</td>\n",
       "    </tr>\n",
       "    <tr>\n",
       "      <th>14</th>\n",
       "      <td>3000</td>\n",
       "      <td>0.817216</td>\n",
       "      <td>0.815761</td>\n",
       "    </tr>\n",
       "    <tr>\n",
       "      <th>15</th>\n",
       "      <td>3200</td>\n",
       "      <td>0.817221</td>\n",
       "      <td>0.818659</td>\n",
       "    </tr>\n",
       "    <tr>\n",
       "      <th>16</th>\n",
       "      <td>3400</td>\n",
       "      <td>0.817940</td>\n",
       "      <td>0.822976</td>\n",
       "    </tr>\n",
       "    <tr>\n",
       "      <th>17</th>\n",
       "      <td>3600</td>\n",
       "      <td>0.818665</td>\n",
       "      <td>0.823701</td>\n",
       "    </tr>\n",
       "    <tr>\n",
       "      <th>18</th>\n",
       "      <td>3800</td>\n",
       "      <td>0.819379</td>\n",
       "      <td>0.822987</td>\n",
       "    </tr>\n",
       "    <tr>\n",
       "      <th>19</th>\n",
       "      <td>4000</td>\n",
       "      <td>0.819379</td>\n",
       "      <td>0.827298</td>\n",
       "    </tr>\n",
       "  </tbody>\n",
       "</table>\n",
       "</div>"
      ],
      "text/plain": [
       "    feature_nums  Bayes_Scores  Log_Regression_Scores\n",
       "0            200      0.798464               0.789835\n",
       "1            400      0.808567               0.773418\n",
       "2            600      0.805689               0.801445\n",
       "3            800      0.810016               0.797765\n",
       "4           1000      0.809302               0.806439\n",
       "5           1200      0.812894               0.815068\n",
       "6           1400      0.818655               0.815063\n",
       "7           1600      0.816501               0.816491\n",
       "8           1800      0.818654               0.817205\n",
       "9           2000      0.815057               0.817221\n",
       "10          2200      0.815772               0.812909\n",
       "11          2400      0.814338               0.815073\n",
       "12          2600      0.815772               0.816491\n",
       "13          2800      0.816491               0.817945\n",
       "14          3000      0.817216               0.815761\n",
       "15          3200      0.817221               0.818659\n",
       "16          3400      0.817940               0.822976\n",
       "17          3600      0.818665               0.823701\n",
       "18          3800      0.819379               0.822987\n",
       "19          4000      0.819379               0.827298"
      ]
     },
     "execution_count": 9,
     "metadata": {},
     "output_type": "execute_result"
    }
   ],
   "source": [
    "# make a dataframe\n",
    "\n",
    "feature_nums = pd.Series(feature_nums)\n",
    "Bayes_Accuracies = pd.Series(Bayes_Accuracies)\n",
    "LR_Accuracies = pd.Series(LR_Accuracies)\n",
    "\n",
    "battle_of_algorithms = pd.concat([feature_nums, Bayes_Accuracies, LR_Accuracies], axis = 1)\n",
    "battle_of_algorithms.columns = ['feature_nums', 'Bayes_Scores', 'Log_Regression_Scores']\n",
    "\n",
    "battle_of_algorithms    "
   ]
  },
  {
   "cell_type": "markdown",
   "metadata": {},
   "source": [
    "# Now make the plot\n",
    "It took me a while to remember how to do this plotting business, but I finally got it."
   ]
  },
  {
   "cell_type": "code",
   "execution_count": 10,
   "metadata": {
    "collapsed": false
   },
   "outputs": [
    {
     "data": {
      "image/png": "[encoded data removed]",
      "text/plain": [
       "<matplotlib.figure.Figure at 0x114b95b00>"
      ]
     },
     "metadata": {},
     "output_type": "display_data"
    }
   ],
   "source": [
    "%matplotlib inline\n",
    "import os\n",
    "import pandas as pd\n",
    "import numpy as np\n",
    "import matplotlib.pyplot as plt\n",
    "# battle_of_algorithms.plot(kind = 'line', x = 'feature_nums', y= 'Bayes_Scores')\n",
    "# battle_of_algorithms.plot(kind = 'line', x = 'feature_nums', y= 'Log_Regression_Scores')\n",
    "battle_of_algorithms.plot(kind = 'line', x = 'feature_nums')\n",
    "plt.show()"
   ]
  },
  {
   "cell_type": "markdown",
   "metadata": {},
   "source": [
    "## Analysis\n",
    "In the battle of the algorithms, it seems somewhat inconclusive; the Bayes did better at low feature numbers, but log regression overtook the Bayes as the feature_nums increased. \n",
    "\n",
    "I am sure I could have done this much more efficiently and without a bunch of the lines that I wrote; indeed, I think this is pretty un-Pythonic. I would not be too surprised if I did it wrong, in fact. At the same time, the numbers look okay. I still need to get the intuition of the Bayes down. Maybe one thing we could discuss is how you've used this in your work, a real-life example. The examples you gave the other day about biography vs. fiction might help me to understand the use of the model. Is the idea that you run the log regression or the bayes model on corpuses from different points in time, and then see how the model performs for any given time? Do you use the same model while comparing mid 19th century to early 20th century corpuses, or do you re-run the functions? These kinds of intuitions are still not totally clear to me. Thanks Ted!"
   ]
  },
  {
   "cell_type": "code",
   "execution_count": null,
   "metadata": {
    "collapsed": true
   },
   "outputs": [],
   "source": []
  }
 ],
 "metadata": {
  "anaconda-cloud": {},
  "kernelspec": {
   "display_name": "Python [py35]",
   "language": "python",
   "name": "Python [py35]"
  },
  "language_info": {
   "codemirror_mode": {
    "name": "ipython",
    "version": 3
   },
   "file_extension": ".py",
   "mimetype": "text/x-python",
   "name": "python",
   "nbconvert_exporter": "python",
   "pygments_lexer": "ipython3",
   "version": "3.5.2"
  }
 },
 "nbformat": 4,
 "nbformat_minor": 1
}
