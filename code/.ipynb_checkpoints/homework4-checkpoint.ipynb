{
 "cells": [
  {
   "cell_type": "markdown",
   "metadata": {},
   "source": [
    "# Homework 4: Applying Dunning's log-likelihood to 19c poetry\n",
    "\n",
    "I've put my \"solutions\" to in-class exercises on the Moodle, except for Exercise 2, which has become our homework assignment. \n",
    "\n",
    "## Problem 1.\n",
    "\n",
    "Find 25 words that are overrepresented in poetry reviewed by elite 19c magazines, as compared to other works of poetry that didn't get reviewed in those venues. Also list 25 words that are overrepresented in poetry that didn't get reviewed.\n",
    "\n",
    "To do this, you'll need to copy over some of the functions from our Week 4 exercises, and also copy over the code from our in-class Exercise #1, editing it so that it divides the corpus.\n",
    "\n",
    "Here's some code to get us started. I load some modules we're likely to need, and then load the ```poefic``` corpus.\n",
    "\n",
    "Then I filter the ```poefic``` DataFrame to have only poetry. I'm doing this for two reasons. The first is that I'm a little concerned that the size of the data is posing a problem on some computers. The other, more immediate, reason is that this dataset only has an even distribution of the \"reception\" variable in poetry. (Almost all the fiction I gave you was reviewed in elite venues.)"
   ]
  },
  {
   "cell_type": "code",
   "execution_count": 3,
   "metadata": {
    "collapsed": false
   },
   "outputs": [
    {
     "name": "stdout",
     "output_type": "stream",
     "text": [
      "Current working directory: /Users/tunder/Dropbox/courses/2017datasci/04-Geometry\n",
      "\n"
     ]
    },
    {
     "data": {
      "text/html": [
       "<div>\n",
       "<table border=\"1\" class=\"dataframe\">\n",
       "  <thead>\n",
       "    <tr style=\"text-align: right;\">\n",
       "      <th></th>\n",
       "      <th>date</th>\n",
       "      <th>author</th>\n",
       "      <th>title</th>\n",
       "      <th>genre</th>\n",
       "      <th>reception</th>\n",
       "      <th>text</th>\n",
       "    </tr>\n",
       "  </thead>\n",
       "  <tbody>\n",
       "    <tr>\n",
       "      <th>359</th>\n",
       "      <td>1835</td>\n",
       "      <td>Browning, Robert,</td>\n",
       "      <td>Paracelsus</td>\n",
       "      <td>poetry</td>\n",
       "      <td>remove</td>\n",
       "      <td>Paracelsus. We 154 PARACELSUS [BOOK III Not ea...</td>\n",
       "    </tr>\n",
       "    <tr>\n",
       "      <th>360</th>\n",
       "      <td>1833</td>\n",
       "      <td>Browning, Robert,</td>\n",
       "      <td>Pauline</td>\n",
       "      <td>poetry</td>\n",
       "      <td>remove</td>\n",
       "      <td>all, I sought How best life’s end might be att...</td>\n",
       "    </tr>\n",
       "    <tr>\n",
       "      <th>361</th>\n",
       "      <td>1855</td>\n",
       "      <td>Arnold, Matthew,</td>\n",
       "      <td>Poems</td>\n",
       "      <td>poetry</td>\n",
       "      <td>elite</td>\n",
       "      <td>grace, and Wisdom be too proud To halve a lodg...</td>\n",
       "    </tr>\n",
       "    <tr>\n",
       "      <th>362</th>\n",
       "      <td>1867</td>\n",
       "      <td>Arnold, Matthew,</td>\n",
       "      <td>New poems</td>\n",
       "      <td>poetry</td>\n",
       "      <td>elite</td>\n",
       "      <td>from the West was then in shade. Ah ! now 'tis...</td>\n",
       "    </tr>\n",
       "    <tr>\n",
       "      <th>363</th>\n",
       "      <td>1861</td>\n",
       "      <td>Mangum, A. W.</td>\n",
       "      <td>The holy shield</td>\n",
       "      <td>poetry</td>\n",
       "      <td>vulgar</td>\n",
       "      <td>happy hgme which he had exchange d for the ten...</td>\n",
       "    </tr>\n",
       "  </tbody>\n",
       "</table>\n",
       "</div>"
      ],
      "text/plain": [
       "     date             author            title   genre reception  \\\n",
       "359  1835  Browning, Robert,       Paracelsus  poetry    remove   \n",
       "360  1833  Browning, Robert,          Pauline  poetry    remove   \n",
       "361  1855   Arnold, Matthew,            Poems  poetry     elite   \n",
       "362  1867   Arnold, Matthew,        New poems  poetry     elite   \n",
       "363  1861      Mangum, A. W.  The holy shield  poetry    vulgar   \n",
       "\n",
       "                                                  text  \n",
       "359  Paracelsus. We 154 PARACELSUS [BOOK III Not ea...  \n",
       "360  all, I sought How best life’s end might be att...  \n",
       "361  grace, and Wisdom be too proud To halve a lodg...  \n",
       "362  from the West was then in shade. Ah ! now 'tis...  \n",
       "363  happy hgme which he had exchange d for the ten...  "
      ]
     },
     "execution_count": 3,
     "metadata": {},
     "output_type": "execute_result"
    }
   ],
   "source": [
    "import os, csv, math\n",
    "import pandas as pd\n",
    "import numpy as np\n",
    "\n",
    "from collections import Counter\n",
    "\n",
    "cwd = os.getcwd()\n",
    "print('Current working directory: ' + cwd + '\\n')\n",
    "      \n",
    "relativepath = os.path.join('..', 'data', 'weekfour', 'poefic.csv')\n",
    "poefic = pd.read_csv(relativepath)\n",
    "\n",
    "# FILTERING BY ROW TO GET ONLY THE POETRY\n",
    "poefic = poefic[poefic['genre'] == 'poetry']\n",
    "# equivalent to\n",
    "    # poefic = poefic.loc[poefic['genre] == poetry, : ]\n",
    "poefic.head()"
   ]
  },
  {
   "cell_type": "markdown",
   "metadata": {},
   "source": [
    "**A small digression about the code above**\n",
    "\n",
    "It's worth dwelling for a moment on the statement that does filtering by row. Notice that if you index a pandas DataFrame with a single string, like ```poefic['genre']```, you get a column. But if you generate a series of Boolean values, and use *that* to index the DataFrame, like so,\n",
    "\n",
    "```poefic[poefic['genre'] == 'poetry']```\n",
    "\n",
    "You'll be selecting *rows* where the series has a value ```True.```\n",
    "\n",
    "If it's not clear what I mean by \"generating a series of Boolean values,\" look at the result of the cell below. (You can delete the cell below when you're working on the homework; this is all a digression.) Notice also, in the code above, that you can also use the ```.loc``` method to specify rows and columns at the same time if you want to. In this case I haven't specified a column for ```.loc``` to select, the ``` : ``` after the comma is a way of saying \"all the columns.\""
   ]
  },
  {
   "cell_type": "code",
   "execution_count": 4,
   "metadata": {
    "collapsed": false
   },
   "outputs": [
    {
     "data": {
      "text/plain": [
       "359     False\n",
       "360     False\n",
       "361      True\n",
       "362      True\n",
       "363     False\n",
       "364     False\n",
       "365     False\n",
       "366     False\n",
       "367      True\n",
       "368      True\n",
       "369     False\n",
       "370     False\n",
       "371      True\n",
       "372      True\n",
       "373      True\n",
       "374     False\n",
       "375      True\n",
       "376     False\n",
       "377      True\n",
       "378      True\n",
       "379     False\n",
       "380      True\n",
       "381     False\n",
       "382     False\n",
       "383      True\n",
       "384      True\n",
       "385      True\n",
       "386      True\n",
       "387      True\n",
       "388     False\n",
       "        ...  \n",
       "997     False\n",
       "998      True\n",
       "999      True\n",
       "1000     True\n",
       "1001     True\n",
       "1002    False\n",
       "1003     True\n",
       "1004    False\n",
       "1005    False\n",
       "1006     True\n",
       "1007     True\n",
       "1008     True\n",
       "1009     True\n",
       "1010     True\n",
       "1011     True\n",
       "1012    False\n",
       "1013    False\n",
       "1014    False\n",
       "1015    False\n",
       "1016     True\n",
       "1017    False\n",
       "1018    False\n",
       "1019    False\n",
       "1020    False\n",
       "1021    False\n",
       "1022     True\n",
       "1023    False\n",
       "1024    False\n",
       "1025    False\n",
       "1026    False\n",
       "Name: reception, dtype: bool"
      ]
     },
     "execution_count": 4,
     "metadata": {},
     "output_type": "execute_result"
    }
   ],
   "source": [
    "poefic['reception'] == 'elite'"
   ]
  },
  {
   "cell_type": "code",
   "execution_count": null,
   "metadata": {
    "collapsed": true
   },
   "outputs": [],
   "source": [
    "# CODE FOR PROBLEM 1\n",
    "\n",
    "# You'll need to copy over the functions you need: things like \"tokenize\" will \n",
    "# certainly be necessary.\n",
    "\n",
    "# I recommend removing stopwords, but test, and see what happens if you don't.\n",
    "\n",
    "# The column 'reception' has several possible values, including 'elite' (was\n",
    "# reviewed in elite journals), and 'vulgar' (which doesn't mean the poetry was\n",
    "# obscene, but is just a wry way of saying it didn't turn up in our sample of \n",
    "# reviews). You want to contrast these two groups. Leave out other rows, where\n",
    "# 'reception' has a value like 'remove.'\n",
    "\n",
    "# After you've run code to produce the top 25 and bottom 25 words, sorted by \n",
    "# signed Dunnings, write a few sentences of commentary below."
   ]
  },
  {
   "cell_type": "markdown",
   "metadata": {},
   "source": [
    "#### Brief commentary on results.\n",
    "\n",
    "This isn't a class on 19th-century poetry, so I don't expect you to fully\n",
    "interpret the results. (As Clarice was rightly suggesting in class, it's\n",
    "necessary to actually read a few documents before we're in a position to\n",
    "interpret quantitative patterns.) But you might be able to speculate or\n",
    "form tentative hypotheses based on a selection of distinctive words."
   ]
  }
 ],
 "metadata": {
  "kernelspec": {
   "display_name": "Python [py35]",
   "language": "python",
   "name": "Python [py35]"
  },
  "language_info": {
   "codemirror_mode": {
    "name": "ipython",
    "version": 3
   },
   "file_extension": ".py",
   "mimetype": "text/x-python",
   "name": "python",
   "nbconvert_exporter": "python",
   "pygments_lexer": "ipython3",
   "version": "3.5.2"
  }
 },
 "nbformat": 4,
 "nbformat_minor": 0
}
