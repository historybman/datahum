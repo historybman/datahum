{
 "cells": [
  {
   "cell_type": "markdown",
   "metadata": {},
   "source": [
    "# Homework 1\n",
    "\n",
    "Edit this notebook so the three broken code cells work as intended.\n",
    "\n",
    "Then rename the notebook homework1lastname.ipynb (e.g. homework1underwood.ipynb) and submit it as your response to the homework assignment on the Moodle. This is due by Saturday, Jan 21."
   ]
  },
  {
   "cell_type": "markdown",
   "metadata": {},
   "source": [
    "### Problem 1: Acronym creator.\n",
    "\n",
    "Write a cell that queries the user for a phrase and then creates an acronym. For instance, a dialogue might look like this:\n",
    "\n",
    "```Enter a phrase: international business machines\n",
    "The acronym is IBM.```\n",
    "\n",
    "To do this you may need to know that the string method ```split()``` has an opposite, ```join()```. For instance,"
   ]
  },
  {
   "cell_type": "code",
   "execution_count": 1,
   "metadata": {
    "collapsed": false
   },
   "outputs": [
    {
     "name": "stdout",
     "output_type": "stream",
     "text": [
      "The--quick--brown--fox--jumped--over--the--lazy--dog\n"
     ]
    }
   ],
   "source": [
    "sentence = 'The quick brown fox jumped over the lazy dog'\n",
    "words = sentence.split()\n",
    "new_sentence = '--'.join(words)\n",
    "print(new_sentence)"
   ]
  },
  {
   "cell_type": "code",
   "execution_count": 16,
   "metadata": {
    "collapsed": false
   },
   "outputs": [
    {
     "name": "stdout",
     "output_type": "stream",
     "text": [
      "Enter a phrase: When I paint my masterpiece\n",
      "The acronym is WIPMM.\n"
     ]
    }
   ],
   "source": [
    "# Code for first problem\n",
    "\n",
    "phrase = input('Enter a phrase: ')\n",
    "wordy = phrase.split()\n",
    "acro_list = [word[0].upper() for word in wordy]\n",
    "acronym = ''.join(acro_list)\n",
    "\n",
    "print('The acronym is ' + acronym + '.')"
   ]
  },
  {
   "cell_type": "markdown",
   "metadata": {},
   "source": [
    "### Problem 2: Temperature converter.\n",
    "\n",
    "Write a cell that queries the user for the temperature in Fahrenheit, and returns the temperature in Celsius."
   ]
  },
  {
   "cell_type": "code",
   "execution_count": 10,
   "metadata": {
    "collapsed": false
   },
   "outputs": [
    {
     "name": "stdout",
     "output_type": "stream",
     "text": [
      "Enter the temperature in Fahrenheit: 98\n",
      "36.66666666666667\n"
     ]
    }
   ],
   "source": [
    "# Code for second problem\n",
    "\n",
    "string_fahrenheit = input('Enter the temperature in Fahrenheit: ')\n",
    "fahrenheit = int(string_fahrenheit)\n",
    "\n",
    "conversion = ((fahrenheit - 32) * (5/9))\n",
    "print(conversion)"
   ]
  },
  {
   "cell_type": "markdown",
   "metadata": {},
   "source": [
    "### Problem 3: Broken devowellizer.\n",
    "\n",
    "The code below is supposed to take vowels out of any sentence. But it's broken. Can you debug it?\n",
    "Hint: there may be more than one error, so it won't necessarily run when you fix the first problem.\n"
   ]
  },
  {
   "cell_type": "code",
   "execution_count": 15,
   "metadata": {
    "collapsed": false
   },
   "outputs": [
    {
     "name": "stdout",
     "output_type": "stream",
     "text": [
      "Enter a sentence: And that's all she wrote!\n",
      "And tht's ll sh wrt!\n"
     ]
    }
   ],
   "source": [
    "# Code for third problem.\n",
    "\n",
    "vowels = {'a', 'e', 'i', 'o', 'u'}\n",
    "sentence = input('Enter a sentence: ')\n",
    "\n",
    "list_of_consonants = []\n",
    "for letter in sentence:\n",
    "    if letter not in vowels:\n",
    "        list_of_consonants.append(letter)\n",
    "\n",
    "new_sentence = ''.join(list_of_consonants)\n",
    "print(new_sentence)"
   ]
  },
  {
   "cell_type": "code",
   "execution_count": null,
   "metadata": {
    "collapsed": true
   },
   "outputs": [],
   "source": []
  },
  {
   "cell_type": "code",
   "execution_count": null,
   "metadata": {
    "collapsed": true
   },
   "outputs": [],
   "source": []
  }
 ],
 "metadata": {
  "anaconda-cloud": {},
  "kernelspec": {
   "display_name": "Python [conda env:py35]",
   "language": "python",
   "name": "conda-env-py35-py"
  },
  "language_info": {
   "codemirror_mode": {
    "name": "ipython",
    "version": 3
   },
   "file_extension": ".py",
   "mimetype": "text/x-python",
   "name": "python",
   "nbconvert_exporter": "python",
   "pygments_lexer": "ipython3",
   "version": "3.5.2"
  }
 },
 "nbformat": 4,
 "nbformat_minor": 0
}
